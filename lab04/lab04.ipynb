{
 "cells": [
  {
   "cell_type": "markdown",
   "id": "240177b2-c857-437b-9695-b2f6cdb7de5d",
   "metadata": {},
   "source": [
    "# Лабораторна робота 4. Підгрупи, системи твірних\n",
    "\n",
    "\n",
    "_Примітка_: наведений код є лише одним з можливих шаблонів виконання. Можете писати по-своєму, але розділяйте свій код на функції, щоб їх можна було простіше перевіряти.\n",
    "\n",
    "## Завдання 1. \n",
    "\n",
    "__Знайдіть усі незвідні системи твірних групи $S_4$.__"
   ]
  },
  {
   "cell_type": "code",
   "execution_count": null,
   "id": "7c8ebdb7-2a70-4684-9417-c78ffa3da5fe",
   "metadata": {},
   "outputs": [],
   "source": [
    "from sage.all import *\n",
    "\n",
    "G = SymmetricGroup(4)\n",
    "\n",
    "def is_generating_set(G, elements):\n",
    "    return G.subgroup(elements) == G\n",
    "\n",
    "generating_sets = []\n",
    "for subset in Subsets(G, G.order()):\n",
    "        print(subset)"
   ]
  },
  {
   "cell_type": "markdown",
   "id": "bb9f5726-dd3b-48e0-85be-d725af835ce2",
   "metadata": {},
   "source": [
    "### Завдання 2. \n",
    "\n",
    "__Знайдіть усі підгрупи груп $S_4, A_4, S_5, A_5$.__"
   ]
  },
  {
   "cell_type": "code",
   "execution_count": null,
   "id": "600b817c-bfd5-449c-8c18-67848ccb4403",
   "metadata": {},
   "outputs": [],
   "source": [
    "S4 = SymmetricGroup(4)\n",
    "S4.subgroups()"
   ]
  },
  {
   "cell_type": "code",
   "execution_count": null,
   "id": "edbf3e4e-c71c-4c73-a8ce-e1cf789e2002",
   "metadata": {},
   "outputs": [],
   "source": [
    "A4 = AlternatingGroup(4)\n",
    "A4.subgroups()"
   ]
  },
  {
   "cell_type": "code",
   "execution_count": null,
   "id": "e18d54f9-788f-4db7-80f9-f5b69ab16ebd",
   "metadata": {},
   "outputs": [],
   "source": [
    "with open(\"output_t021.txt\", \"w\") as file:\n",
    "    S5 = SymmetricGroup(5)\n",
    "    for el in S5.subgroups():\n",
    "        file.write(str(el)+'\\n')"
   ]
  },
  {
   "cell_type": "code",
   "execution_count": null,
   "id": "9067ea8b-fdf4-4456-9d0e-9bb1ac8724c9",
   "metadata": {},
   "outputs": [],
   "source": [
    "with open(\"output_t022.txt\", \"w\") as file:\n",
    "    A5 = AlternatingGroup(5)\n",
    "    for el in A5.subgroups():\n",
    "        file.write(str(el)+'\\n')"
   ]
  },
  {
   "cell_type": "markdown",
   "id": "653a9629-e757-442f-af0b-bd53b4694cff",
   "metadata": {},
   "source": [
    "## Завдання 3. \n",
    "\n",
    "__Задайте дві випадкові підстановки з групи $S_n, \\, (1 \\le n \\le 100)$. Перевірте чи є вони парними. Знайдіть порядок групи, ними породженої. Чи буде ця група дорівнювати $A_n$? $S_n$?__"
   ]
  },
  {
   "cell_type": "code",
   "execution_count": null,
   "id": "ee732968-a661-4c26-b729-6b17b1e0a3e3",
   "metadata": {},
   "outputs": [],
   "source": [
    "from random import randint\n",
    "n = 100\n",
    "S = SymmetricGroup(n)\n",
    "perm1 = S.random_element()\n",
    "perm2 = S.random_element()\n",
    "print(perm1)\n",
    "print(perm2)"
   ]
  },
  {
   "cell_type": "code",
   "execution_count": null,
   "id": "c89808bb-b8eb-46e4-9fbc-35e58a014310",
   "metadata": {},
   "outputs": [],
   "source": [
    "print(\"Знак перестановки 1:\", perm1.sign())\n",
    "print(\"Знак перестановки 2:\", perm2.sign())"
   ]
  },
  {
   "cell_type": "code",
   "execution_count": null,
   "id": "e6e804c9-84f3-48d2-93d6-7664096d4803",
   "metadata": {},
   "outputs": [],
   "source": [
    "H = S.subgroup([perm1, perm2])\n",
    "H.order()"
   ]
  },
  {
   "cell_type": "code",
   "execution_count": null,
   "id": "06930bc6-d223-4eb0-92e9-00a2825ae9ee",
   "metadata": {},
   "outputs": [],
   "source": [
    "H == S"
   ]
  },
  {
   "cell_type": "code",
   "execution_count": null,
   "id": "dbd0ec14-8b6f-4597-976e-c7500d5f6516",
   "metadata": {},
   "outputs": [],
   "source": [
    "H == AlternatingGroup(n)"
   ]
  },
  {
   "cell_type": "markdown",
   "id": "32485aa0-d40f-4b33-a030-7d3bd7722d70",
   "metadata": {},
   "source": [
    "## Завдання 4. \n",
    "\n",
    "__Покажіть, що теорема Лагранжа працює тільки в одну сторону: знайдіть приклад групи $G$ і дільник порядку цієї групи $d$ такі, що не існує підгрупи $H < G$ порядку $d$.__\n",
    "\n",
    "___Зауваження:___ група $A_4$ не приймається"
   ]
  },
  {
   "cell_type": "code",
   "execution_count": null,
   "id": "1391015a-a20e-41d5-b631-6251d1e69316",
   "metadata": {},
   "outputs": [],
   "source": [
    "S = SymmetricGroup(5)"
   ]
  },
  {
   "cell_type": "code",
   "execution_count": null,
   "id": "48a5b8f2-75cd-4883-b076-1250ff4d0388",
   "metadata": {},
   "outputs": [],
   "source": []
  }
 ],
 "metadata": {
  "kernelspec": {
   "display_name": "Python 3 (ipykernel)",
   "language": "python",
   "name": "python3"
  },
  "language_info": {
   "codemirror_mode": {
    "name": "ipython",
    "version": 3
   },
   "file_extension": ".py",
   "mimetype": "text/x-python",
   "name": "python",
   "nbconvert_exporter": "python",
   "pygments_lexer": "ipython3",
   "version": "3.11.10"
  }
 },
 "nbformat": 4,
 "nbformat_minor": 5
}
