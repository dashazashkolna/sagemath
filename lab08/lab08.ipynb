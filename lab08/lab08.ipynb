{
 "cells": [
  {
   "attachments": {},
   "cell_type": "markdown",
   "id": "d344deb3-66ad-4695-ac16-cddf4c362d38",
   "metadata": {},
   "source": [
    "# Лабораторна робота 8\n",
    "\n",
    "__Знайдіть к-ть різних розфарбувань кубика Рубика 2х2х2, використовуючи 10 кольорів.__\n",
    "\n",
    "\n",
    "![cube](cube.jpeg)\n",
    "\n",
    "Два розфарбування називатимуться однаковими, якщо існує послідовність рухів кубика рубика, яка одне розфарбування переводить в інше. \n",
    "\n",
    "Не обовʼязково використовувати всі 10 кольорів, тобто допустимо пофарбувати весь кубик в один колір. \n",
    "\n",
    "___Приклад___: існує 183 різних розфарбувань, використовуючи 2 кольори. "
   ]
  },
  {
   "cell_type": "code",
   "execution_count": 18,
   "id": "6377f57b-e8c7-48ee-996d-e3e63404dc0a",
   "metadata": {},
   "outputs": [
    {
     "name": "stdout",
     "output_type": "stream",
     "text": [
      "12395526079546335 чіназес\n"
     ]
    }
   ],
   "source": [
    "def counter(k, H):\n",
    "\n",
    "    sum = 0\n",
    "    for conjugacy_class in H.conjugacy_classes():\n",
    "        representative = conjugacy_class.representative()\n",
    "        cycle_count = len(representative.cycle_type())\n",
    "        colorings = k**cycle_count\n",
    "        sum += conjugacy_class.cardinality() * colorings\n",
    "\n",
    "    return sum / H.order()\n",
    "\n",
    "\n",
    "G = SymmetricGroup(24)\n",
    "g1 = G('(1, 2, 4, 3)(5, 24, 9, 7)(6, 23, 10, 8)');\n",
    "g2 = G('(7, 8, 14, 13)(3, 9, 18, 12)(4, 15, 17, 6)')\n",
    "g3 = G('(9, 10, 16, 15)(4, 24, 20, 14)(2, 22, 18, 8)')\n",
    "g4 = G('(11, 5, 6, 12)(1, 7, 17, 21)(3, 13, 19, 23)')\n",
    "H = G.subgroup([g1, g2, g3, g4])\n",
    "\n",
    "res = counter(10, H)\n",
    "print(res, 'чіназес')"
   ]
  }
 ],
 "metadata": {
  "kernelspec": {
   "display_name": "SageMath 10.4",
   "language": "sage",
   "name": "sagemath"
  },
  "language_info": {
   "codemirror_mode": {
    "name": "ipython",
    "version": 3
   },
   "file_extension": ".py",
   "mimetype": "text/x-python",
   "name": "python",
   "nbconvert_exporter": "python",
   "pygments_lexer": "ipython3",
   "version": "3.11.10"
  }
 },
 "nbformat": 4,
 "nbformat_minor": 5
}
