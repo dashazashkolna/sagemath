{
 "cells": [
  {
   "cell_type": "markdown",
   "id": "c1b9613b-2bdf-433e-90eb-947b165c5a72",
   "metadata": {},
   "source": [
    "# Лабораторна робота 2. Бінарні дії\n",
    "\n",
    "__Примітка:__ наведений код є лише одним з можливих шаблонів виконання. Можете писати по-своєму, але розділяйте свій код на функції, щоб їх можна було простіше перевіряти. \n",
    "\n",
    "## Завдання 1.\n",
    "\n",
    "__Визначити усіма можливими способами бінарну дію на множині з n=2,3 елементів. Побудувати таблицю Келі для кожної з цих дій.__\n",
    "\n",
    "_Підказка_: використайте класи FiniteSetMaps та OperationTable, як показано в [прикладах](../notebooks/02-binary_actions.ipynb). "
   ]
  },
  {
   "cell_type": "markdown",
   "id": "788f12ba-e4ef-46eb-bf01-cd163e12166a",
   "metadata": {},
   "source": [
    "__1) Для n = 2__"
   ]
  },
  {
   "cell_type": "code",
   "execution_count": 77,
   "id": "6f31f202-7995-4a06-8200-86d856441f8b",
   "metadata": {
    "scrolled": true
   },
   "outputs": [
    {
     "name": "stdout",
     "output_type": "stream",
     "text": [
      "map: (1, 1) -> 1, (1, 2) -> 1, (2, 1) -> 1, (2, 2) -> 1\n",
      ".  a b\n",
      " +----\n",
      "a| a a\n",
      "b| a a\n",
      "\n",
      "map: (1, 1) -> 1, (1, 2) -> 1, (2, 1) -> 1, (2, 2) -> 2\n",
      ".  a b\n",
      " +----\n",
      "a| a a\n",
      "b| a b\n",
      "\n",
      "map: (1, 1) -> 1, (1, 2) -> 1, (2, 1) -> 2, (2, 2) -> 1\n",
      ".  a b\n",
      " +----\n",
      "a| a a\n",
      "b| b a\n",
      "\n",
      "map: (1, 1) -> 1, (1, 2) -> 1, (2, 1) -> 2, (2, 2) -> 2\n",
      ".  a b\n",
      " +----\n",
      "a| a a\n",
      "b| b b\n",
      "\n",
      "map: (1, 1) -> 1, (1, 2) -> 2, (2, 1) -> 1, (2, 2) -> 1\n",
      ".  a b\n",
      " +----\n",
      "a| a b\n",
      "b| a a\n",
      "\n",
      "map: (1, 1) -> 1, (1, 2) -> 2, (2, 1) -> 1, (2, 2) -> 2\n",
      ".  a b\n",
      " +----\n",
      "a| a b\n",
      "b| a b\n",
      "\n",
      "map: (1, 1) -> 1, (1, 2) -> 2, (2, 1) -> 2, (2, 2) -> 1\n",
      ".  a b\n",
      " +----\n",
      "a| a b\n",
      "b| b a\n",
      "\n",
      "map: (1, 1) -> 1, (1, 2) -> 2, (2, 1) -> 2, (2, 2) -> 2\n",
      ".  a b\n",
      " +----\n",
      "a| a b\n",
      "b| b b\n",
      "\n",
      "map: (1, 1) -> 2, (1, 2) -> 1, (2, 1) -> 1, (2, 2) -> 1\n",
      ".  a b\n",
      " +----\n",
      "a| b a\n",
      "b| a a\n",
      "\n",
      "map: (1, 1) -> 2, (1, 2) -> 1, (2, 1) -> 1, (2, 2) -> 2\n",
      ".  a b\n",
      " +----\n",
      "a| b a\n",
      "b| a b\n",
      "\n",
      "map: (1, 1) -> 2, (1, 2) -> 1, (2, 1) -> 2, (2, 2) -> 1\n",
      ".  a b\n",
      " +----\n",
      "a| b a\n",
      "b| b a\n",
      "\n",
      "map: (1, 1) -> 2, (1, 2) -> 1, (2, 1) -> 2, (2, 2) -> 2\n",
      ".  a b\n",
      " +----\n",
      "a| b a\n",
      "b| b b\n",
      "\n",
      "map: (1, 1) -> 2, (1, 2) -> 2, (2, 1) -> 1, (2, 2) -> 1\n",
      ".  a b\n",
      " +----\n",
      "a| b b\n",
      "b| a a\n",
      "\n",
      "map: (1, 1) -> 2, (1, 2) -> 2, (2, 1) -> 1, (2, 2) -> 2\n",
      ".  a b\n",
      " +----\n",
      "a| b b\n",
      "b| a b\n",
      "\n",
      "map: (1, 1) -> 2, (1, 2) -> 2, (2, 1) -> 2, (2, 2) -> 1\n",
      ".  a b\n",
      " +----\n",
      "a| b b\n",
      "b| b a\n",
      "\n",
      "map: (1, 1) -> 2, (1, 2) -> 2, (2, 1) -> 2, (2, 2) -> 2\n",
      ".  a b\n",
      " +----\n",
      "a| b b\n",
      "b| b b\n",
      "\n"
     ]
    }
   ],
   "source": [
    "needed_set = [1, 2]\n",
    "\n",
    "from itertools import product\n",
    "from sage.matrix.operation_table import OperationTable\n",
    "from sage.sets.finite_set_maps import FiniteSetMaps\n",
    "\n",
    "def all_actions(input_set):\n",
    "    actions = FiniteSetMaps(product(input_set, repeat=2), input_set)\n",
    "    return actions\n",
    "\n",
    "\n",
    "for f in all_actions(needed_set): \n",
    "    print(f)\n",
    "    def _f(x, y): \n",
    "        return f((x, y))\n",
    "    print(OperationTable(needed_set, _f))"
   ]
  },
  {
   "cell_type": "markdown",
   "id": "06d18ab6-40a3-49f7-b569-86bb7291b9f7",
   "metadata": {},
   "source": [
    "__Для n = 3__"
   ]
  },
  {
   "cell_type": "code",
   "execution_count": 78,
   "id": "28a87c76-b7f0-4be7-b957-6f5c11f0ac1a",
   "metadata": {},
   "outputs": [
    {
     "name": "stdout",
     "output_type": "stream",
     "text": [
      "результат у файлі\n"
     ]
    }
   ],
   "source": [
    "needed_set = [1, 2, 3]\n",
    "\n",
    "from itertools import product\n",
    "from sage.matrix.operation_table import OperationTable\n",
    "from sage.sets.finite_set_maps import FiniteSetMaps\n",
    "\n",
    "def all_actions(input_set):\n",
    "    actions = FiniteSetMaps(product(input_set, repeat=2), input_set)\n",
    "    return actions\n",
    "\n",
    "\n",
    "with open(\"output_t01.txt\", \"w\") as file:\n",
    "    for f in all_actions(needed_set): \n",
    "        file.write(str(f))\n",
    "        \n",
    "        def _f(x, y): \n",
    "            return f((x, y))\n",
    "            \n",
    "        file.write(str(OperationTable(needed_set, _f)))\n",
    "print(\"результат у файлі\")"
   ]
  },
  {
   "cell_type": "markdown",
   "id": "c5354f64-79db-41b1-8307-82cc2e7a56a5",
   "metadata": {},
   "source": [
    "## Завдання 2. \n",
    "__Для кожної з визначених дій перевірити чи буде дія асоціативною. Якщо дія не асоціативна, то вивести трійку, для якої ця умова порушується.__"
   ]
  },
  {
   "cell_type": "markdown",
   "id": "8c2ee40d-84aa-40d2-98b0-47bf8cb4c6c3",
   "metadata": {},
   "source": [
    "__1) Для n = 2__"
   ]
  },
  {
   "cell_type": "code",
   "execution_count": 79,
   "id": "29ff592c-1ddf-4bc4-a4d5-7b4d14fecb61",
   "metadata": {},
   "outputs": [
    {
     "name": "stdout",
     "output_type": "stream",
     "text": [
      "Дія map: (1, 1) -> 1, (1, 2) -> 1, (2, 1) -> 2, (2, 2) -> 1 не асоціативна, контрприклад: (2, 1, 2)\n",
      "Дія map: (1, 1) -> 1, (1, 2) -> 2, (2, 1) -> 1, (2, 2) -> 1 не асоціативна, контрприклад: (2, 1, 2)\n",
      "Дія map: (1, 1) -> 2, (1, 2) -> 1, (2, 1) -> 1, (2, 2) -> 1 не асоціативна, контрприклад: (1, 1, 2)\n",
      "Дія map: (1, 1) -> 2, (1, 2) -> 1, (2, 1) -> 2, (2, 2) -> 1 не асоціативна, контрприклад: (1, 1, 1)\n",
      "Дія map: (1, 1) -> 2, (1, 2) -> 1, (2, 1) -> 2, (2, 2) -> 2 не асоціативна, контрприклад: (1, 1, 1)\n",
      "Дія map: (1, 1) -> 2, (1, 2) -> 2, (2, 1) -> 1, (2, 2) -> 1 не асоціативна, контрприклад: (1, 1, 1)\n",
      "Дія map: (1, 1) -> 2, (1, 2) -> 2, (2, 1) -> 1, (2, 2) -> 2 не асоціативна, контрприклад: (1, 1, 1)\n",
      "Дія map: (1, 1) -> 2, (1, 2) -> 2, (2, 1) -> 2, (2, 2) -> 1 не асоціативна, контрприклад: (1, 1, 2)\n",
      "К-ть асоціативних дій для 2-елементної множини: 8\n"
     ]
    }
   ],
   "source": [
    "def is_associative(input_set, action):\n",
    "    for x, y, z in product(input_set, repeat=3):\n",
    "        if (f((f((x, y)), z))) != f((x, f((y, z)))):\n",
    "            return False, (x, y, z)\n",
    "    return True, None \n",
    "\n",
    "\n",
    "needed_set = [1, 2]\n",
    "associative_actions = []\n",
    "\n",
    "for f in all_actions(needed_set): \n",
    "\n",
    "    result, counter = is_associative(needed_set, f)\n",
    "    if not result: \n",
    "        print(f\"Дія {f} не асоціативна, контрприклад:\", counter)\n",
    "    else: \n",
    "        associative_actions.append(f)\n",
    "\n",
    "print(f'К-ть асоціативних дій для {len(needed_set)}-елементної множини:', len(associative_actions))"
   ]
  },
  {
   "cell_type": "markdown",
   "id": "3ce95883-555e-4213-8f75-adc5b1a8413a",
   "metadata": {},
   "source": [
    "__2) Для n = 3__"
   ]
  },
  {
   "cell_type": "code",
   "execution_count": 80,
   "id": "c72e41b7-ce81-473d-823f-1a16a9ac76d3",
   "metadata": {},
   "outputs": [
    {
     "name": "stdout",
     "output_type": "stream",
     "text": [
      "К-ть асоціативних дій для 3-елементної множини: 113\n"
     ]
    }
   ],
   "source": [
    "def is_associative(input_set, action):\n",
    "    for x, y, z in product(input_set, repeat=3):\n",
    "        if (action((action((x, y)), z))) != action((x, action((y, z)))):\n",
    "            return False, (x, y, z)\n",
    "    return True, None \n",
    "\n",
    "\n",
    "needed_set = [1, 2, 3]\n",
    "associative_actions = []\n",
    "\n",
    "with open(\"output_t02.txt\", \"w\") as file:\n",
    "    for f in all_actions(needed_set): \n",
    "        result, counter = is_associative(needed_set, f)\n",
    "        \n",
    "        if not result: \n",
    "            file.write(f\"{f} не асоціативна, контрприклад: {counter} \\n\\n\")\n",
    "        else: \n",
    "            associative_actions.append(f)\n",
    "\n",
    "print(f'К-ть асоціативних дій для {len(needed_set)}-елементної множини:', len(associative_actions))"
   ]
  },
  {
   "cell_type": "markdown",
   "id": "ab7093b0-a376-4ade-bdda-06612fad28ec",
   "metadata": {},
   "source": [
    "## Завдання 3. \n",
    "\n",
    "__Перевірити, які з визначених множин з асоціативними бінарними діями будуть ізоморфними між собою і знайти кількість класів попарно ізоморфних між собою множин.__"
   ]
  },
  {
   "cell_type": "code",
   "execution_count": 81,
   "id": "61c4c69b-b6f4-4411-96d7-e6783f0a24d8",
   "metadata": {},
   "outputs": [
    {
     "name": "stdout",
     "output_type": "stream",
     "text": [
      "К-ть класів ізоморфності: 24\n",
      "К-ть дій в кожному класі:\n",
      "map: (1, 1) -> 1, (1, 2) -> 1, (1, 3) -> 1, (2, 1) -> 1, (2, 2) -> 1, (2, 3) -> 1, (3, 1) -> 1, (3, 2) -> 1, (3, 3) -> 1 3\n",
      "map: (1, 1) -> 1, (1, 2) -> 1, (1, 3) -> 1, (2, 1) -> 1, (2, 2) -> 1, (2, 3) -> 1, (3, 1) -> 1, (3, 2) -> 1, (3, 3) -> 2 6\n",
      "map: (1, 1) -> 1, (1, 2) -> 1, (1, 3) -> 1, (2, 1) -> 1, (2, 2) -> 1, (2, 3) -> 1, (3, 1) -> 1, (3, 2) -> 1, (3, 3) -> 3 6\n",
      "map: (1, 1) -> 1, (1, 2) -> 1, (1, 3) -> 1, (2, 1) -> 1, (2, 2) -> 1, (2, 3) -> 1, (3, 1) -> 1, (3, 2) -> 2, (3, 3) -> 3 6\n",
      "map: (1, 1) -> 1, (1, 2) -> 1, (1, 3) -> 1, (2, 1) -> 1, (2, 2) -> 1, (2, 3) -> 1, (3, 1) -> 3, (3, 2) -> 3, (3, 3) -> 3 6\n",
      "map: (1, 1) -> 1, (1, 2) -> 1, (1, 3) -> 1, (2, 1) -> 1, (2, 2) -> 1, (2, 3) -> 2, (3, 1) -> 1, (3, 2) -> 1, (3, 3) -> 3 6\n",
      "map: (1, 1) -> 1, (1, 2) -> 1, (1, 3) -> 1, (2, 1) -> 1, (2, 2) -> 1, (2, 3) -> 2, (3, 1) -> 1, (3, 2) -> 2, (3, 3) -> 3 6\n",
      "map: (1, 1) -> 1, (1, 2) -> 1, (1, 3) -> 1, (2, 1) -> 1, (2, 2) -> 2, (2, 3) -> 1, (3, 1) -> 1, (3, 2) -> 1, (3, 3) -> 3 3\n",
      "map: (1, 1) -> 1, (1, 2) -> 1, (1, 3) -> 1, (2, 1) -> 1, (2, 2) -> 2, (2, 3) -> 1, (3, 1) -> 3, (3, 2) -> 3, (3, 3) -> 3 6\n",
      "map: (1, 1) -> 1, (1, 2) -> 1, (1, 3) -> 1, (2, 1) -> 1, (2, 2) -> 2, (2, 3) -> 2, (3, 1) -> 1, (3, 2) -> 2, (3, 3) -> 2 6\n",
      "map: (1, 1) -> 1, (1, 2) -> 1, (1, 3) -> 1, (2, 1) -> 1, (2, 2) -> 2, (2, 3) -> 2, (3, 1) -> 1, (3, 2) -> 2, (3, 3) -> 3 6\n",
      "map: (1, 1) -> 1, (1, 2) -> 1, (1, 3) -> 1, (2, 1) -> 1, (2, 2) -> 2, (2, 3) -> 2, (3, 1) -> 1, (3, 2) -> 3, (3, 3) -> 3 3\n",
      "map: (1, 1) -> 1, (1, 2) -> 1, (1, 3) -> 1, (2, 1) -> 1, (2, 2) -> 2, (2, 3) -> 3, (3, 1) -> 1, (3, 2) -> 2, (3, 3) -> 3 3\n",
      "map: (1, 1) -> 1, (1, 2) -> 1, (1, 3) -> 1, (2, 1) -> 1, (2, 2) -> 2, (2, 3) -> 3, (3, 1) -> 1, (3, 2) -> 3, (3, 3) -> 2 6\n",
      "map: (1, 1) -> 1, (1, 2) -> 1, (1, 3) -> 1, (2, 1) -> 1, (2, 2) -> 2, (2, 3) -> 3, (3, 1) -> 3, (3, 2) -> 3, (3, 3) -> 3 3\n",
      "map: (1, 1) -> 1, (1, 2) -> 1, (1, 3) -> 1, (2, 1) -> 2, (2, 2) -> 2, (2, 3) -> 2, (3, 1) -> 3, (3, 2) -> 3, (3, 3) -> 3 1\n",
      "map: (1, 1) -> 1, (1, 2) -> 1, (1, 3) -> 3, (2, 1) -> 1, (2, 2) -> 1, (2, 3) -> 3, (3, 1) -> 1, (3, 2) -> 1, (3, 3) -> 3 6\n",
      "map: (1, 1) -> 1, (1, 2) -> 1, (1, 3) -> 3, (2, 1) -> 1, (2, 2) -> 1, (2, 3) -> 3, (3, 1) -> 3, (3, 2) -> 3, (3, 3) -> 1 6\n",
      "map: (1, 1) -> 1, (1, 2) -> 1, (1, 3) -> 3, (2, 1) -> 1, (2, 2) -> 2, (2, 3) -> 3, (3, 1) -> 1, (3, 2) -> 1, (3, 3) -> 3 6\n",
      "map: (1, 1) -> 1, (1, 2) -> 1, (1, 3) -> 3, (2, 1) -> 1, (2, 2) -> 2, (2, 3) -> 3, (3, 1) -> 1, (3, 2) -> 3, (3, 3) -> 3 3\n",
      "map: (1, 1) -> 1, (1, 2) -> 1, (1, 3) -> 3, (2, 1) -> 1, (2, 2) -> 2, (2, 3) -> 3, (3, 1) -> 3, (3, 2) -> 3, (3, 3) -> 1 6\n",
      "map: (1, 1) -> 1, (1, 2) -> 2, (1, 3) -> 2, (2, 1) -> 2, (2, 2) -> 1, (2, 3) -> 1, (3, 1) -> 2, (3, 2) -> 1, (3, 3) -> 1 6\n",
      "map: (1, 1) -> 1, (1, 2) -> 2, (1, 3) -> 3, (2, 1) -> 1, (2, 2) -> 2, (2, 3) -> 3, (3, 1) -> 1, (3, 2) -> 2, (3, 3) -> 3 1\n",
      "map: (1, 1) -> 1, (1, 2) -> 2, (1, 3) -> 3, (2, 1) -> 2, (2, 2) -> 3, (2, 3) -> 1, (3, 1) -> 3, (3, 2) -> 1, (3, 3) -> 2 3\n"
     ]
    }
   ],
   "source": [
    "def is_isomorphic(space1, action1, space2, action2): \n",
    "    \n",
    "    if len(space1) != len(space2):\n",
    "        return False\n",
    "\n",
    "    for permutation in permutations(space2):\n",
    "        \n",
    "        bijection = {x: y for x, y in zip(space1, permutation)}\n",
    "        is_iso = True\n",
    "        \n",
    "        for x in space1:\n",
    "            for y in space1:\n",
    "                if bijection[action1((x, y))] != action2((bijection[x], bijection[y])):\n",
    "                    is_iso = False\n",
    "                    break\n",
    "                    \n",
    "            if not is_iso:\n",
    "                break\n",
    "                \n",
    "        if is_iso:\n",
    "            return True\n",
    "    return False\n",
    "\n",
    "\n",
    "# список представників класів ізоморфності \n",
    "isomorph_classes = []\n",
    "\n",
    "for f1 in associative_actions: \n",
    "    for iso_class in isomorph_classes: \n",
    "        f2 = iso_class[0]\n",
    "        if is_isomorphic(needed_set, f1, needed_set, f2): \n",
    "            iso_class[1] += 1\n",
    "            break \n",
    "    # якщо жоден з представників не ізоморфний \n",
    "    else:    \n",
    "        isomorph_classes.append([f1, 1])\n",
    "\n",
    "print('К-ть класів ізоморфності:', len(isomorph_classes))\n",
    "print('К-ть дій в кожному класі:')\n",
    "for iso_class in isomorph_classes: \n",
    "    print(*iso_class)"
   ]
  },
  {
   "cell_type": "code",
   "execution_count": null,
   "id": "0ba3fcc2-1010-4cb5-b89e-7bb905a7e559",
   "metadata": {},
   "outputs": [],
   "source": []
  }
 ],
 "metadata": {
  "kernelspec": {
   "display_name": "Python 3 (ipykernel)",
   "language": "python",
   "name": "python3"
  },
  "language_info": {
   "codemirror_mode": {
    "name": "ipython",
    "version": 3
   },
   "file_extension": ".py",
   "mimetype": "text/x-python",
   "name": "python",
   "nbconvert_exporter": "python",
   "pygments_lexer": "ipython3",
   "version": "3.11.10"
  }
 },
 "nbformat": 4,
 "nbformat_minor": 5
}
